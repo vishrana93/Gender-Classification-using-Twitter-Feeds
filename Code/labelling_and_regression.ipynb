{
 "cells": [
  {
   "cell_type": "markdown",
   "metadata": {},
   "source": [
    "#  CS 522 - Advanced Data Mining - Spring 2016 - Final Project\n",
    "\n",
    "#                Gender Classification using Twitter Feeds"
   ]
  },
  {
   "cell_type": "markdown",
   "metadata": {},
   "source": [
    "# Step - 3) Create Gender Labels."
   ]
  },
  {
   "cell_type": "code",
   "execution_count": 3,
   "metadata": {
    "collapsed": false
   },
   "outputs": [],
   "source": [
    "# import necessary libraries\n",
    "\n",
    "%matplotlib inline\n",
    "import numpy as np\n",
    "import pickle\n",
    "from collections import Counter\n",
    "from sklearn.cross_validation import KFold\n",
    "from sklearn.linear_model import LogisticRegression\n",
    "from sklearn.metrics import accuracy_score, confusion_matrix\n",
    "from itertools import product\n",
    "from collections import defaultdict\n",
    "import matplotlib.pyplot as plt"
   ]
  },
  {
   "cell_type": "code",
   "execution_count": 4,
   "metadata": {
    "collapsed": false
   },
   "outputs": [],
   "source": [
    "from sampleClass14 import sampleClass14"
   ]
  },
  {
   "cell_type": "code",
   "execution_count": 5,
   "metadata": {
    "collapsed": false
   },
   "outputs": [
    {
     "name": "stdout",
     "output_type": "stream",
     "text": [
      "\n"
     ]
    }
   ],
   "source": [
    "sampleClass = sampleClass14()"
   ]
  },
  {
   "cell_type": "code",
   "execution_count": 6,
   "metadata": {
    "collapsed": false
   },
   "outputs": [],
   "source": [
    "male_names, female_names = sampleClass.get_census_names()"
   ]
  },
  {
   "cell_type": "code",
   "execution_count": 7,
   "metadata": {
    "collapsed": false
   },
   "outputs": [],
   "source": [
    "# Load the tweets from pickle file\n",
    "\n",
    "tweets = pickle.load(open('tweets.pkl', 'rb'))"
   ]
  },
  {
   "cell_type": "code",
   "execution_count": 8,
   "metadata": {
    "collapsed": true
   },
   "outputs": [],
   "source": [
    "def get_gender(tweet, male_names, female_names):\n",
    "    name = sampleClass.get_first_name(tweet)\n",
    "    if name in female_names:\n",
    "        return 1\n",
    "    elif name in male_names:\n",
    "        return 0\n",
    "    else:\n",
    "        return -1"
   ]
  },
  {
   "cell_type": "code",
   "execution_count": 9,
   "metadata": {
    "collapsed": false
   },
   "outputs": [
    {
     "name": "stdout",
     "output_type": "stream",
     "text": [
      "gender labels: [(0, 5182), (1, 4818)]\n"
     ]
    }
   ],
   "source": [
    "y = np.array([get_gender(t, male_names, female_names) for t in tweets])\n",
    "print 'gender labels:', Counter(y).items()"
   ]
  },
  {
   "cell_type": "markdown",
   "metadata": {},
   "source": [
    "# Step - 4) Fit a Logistic Regression Classifier"
   ]
  },
  {
   "cell_type": "code",
   "execution_count": 10,
   "metadata": {
    "collapsed": true
   },
   "outputs": [],
   "source": [
    "def do_cross_val(X, y, nfolds):\n",
    "    \"\"\" Compute average cross-validation acccuracy.\"\"\"\n",
    "    cv = KFold(len(y), nfolds)\n",
    "    accuracies = []\n",
    "    for train_idx, test_idx in cv:\n",
    "        clf = LogisticRegression()\n",
    "        clf.fit(X[train_idx], y[train_idx])\n",
    "        predicted = clf.predict(X[test_idx])\n",
    "        acc = accuracy_score(y[test_idx], predicted)\n",
    "        #cm = confusion_matrix(y[test_idx], predicted)\n",
    "        #print cm\n",
    "        accuracies.append(acc)\n",
    "    avg = np.mean(accuracies)\n",
    "    return avg"
   ]
  },
  {
   "cell_type": "code",
   "execution_count": 48,
   "metadata": {
    "collapsed": false
   },
   "outputs": [
    {
     "name": "stdout",
     "output_type": "stream",
     "text": [
      "53816 unique terms in vocabulary\n"
     ]
    }
   ],
   "source": [
    "tokens_list = [sampleClass.tweet2tokens(t, use_descr=True, lowercase=True,keep_punctuation=True, descr_prefix='d=',\n",
    "                            collapse_urls=False, collapse_mentions=False,collapse_stop_words=False)\n",
    "              for t in tweets]\n",
    "\n",
    "\n",
    "vocabulary = sampleClass.make_vocabulary(tokens_list)\n",
    "\n",
    "X = sampleClass.make_feature_matrix(tokens_list,vocabulary,len(tweets))"
   ]
  },
  {
   "cell_type": "code",
   "execution_count": 49,
   "metadata": {
    "collapsed": false
   },
   "outputs": [
    {
     "name": "stdout",
     "output_type": "stream",
     "text": [
      "Average Accuracy 0.7133\n"
     ]
    }
   ],
   "source": [
    "print 'Average Accuracy', do_cross_val(X, y, 5)"
   ]
  },
  {
   "cell_type": "code",
   "execution_count": 54,
   "metadata": {
    "collapsed": true
   },
   "outputs": [],
   "source": [
    "# How does tokenization affect accuracy?\n",
    "# Collapse urls , mentions and stop words ; ignore description prefix.\n",
    "\n",
    "def run_all(tweets, use_descr=True, lowercase=True,keep_punctuation=True, descr_prefix=None,\n",
    "            collapse_urls=True, collapse_mentions=True, use_text=True, collapse_stop_words = True):\n",
    "    \n",
    "    tokens_list = [sampleClass.tweet2tokens(t, use_descr, lowercase,keep_punctuation, descr_prefix,\n",
    "                            collapse_urls, collapse_mentions, use_text,collapse_stop_words)\n",
    "                  for t in tweets]\n",
    "    vocabulary = sampleClass.make_vocabulary(tokens_list)\n",
    "    if len(vocabulary) > 0 :\n",
    "        X = sampleClass.make_feature_matrix(tokens_list, vocabulary,len(tweets))\n",
    "        acc = do_cross_val(X, y, 5)\n",
    "    else:\n",
    "        acc = 0\n",
    "    #print 'Accuracy =', acc\n",
    "    return acc\n"
   ]
  },
  {
   "cell_type": "code",
   "execution_count": 55,
   "metadata": {
    "collapsed": false,
    "scrolled": true
   },
   "outputs": [
    {
     "name": "stdout",
     "output_type": "stream",
     "text": [
      "43183 unique terms in vocabulary\n",
      "43442 unique terms in vocabulary\n",
      "22025 unique terms in vocabulary\n",
      "22155 unique terms in vocabulary\n",
      "49678 unique terms in vocabulary\n",
      "49937 unique terms in vocabulary\n",
      "23462 unique terms in vocabulary\n",
      "23592 unique terms in vocabulary\n",
      "47062 unique terms in vocabulary\n",
      "47321 unique terms in vocabulary\n",
      "22320 unique terms in vocabulary\n",
      "22450 unique terms in vocabulary\n",
      "53557 unique terms in vocabulary\n",
      "53816 unique terms in vocabulary\n",
      "23757 unique terms in vocabulary\n",
      "23887 unique terms in vocabulary\n",
      "37855 unique terms in vocabulary\n",
      "37989 unique terms in vocabulary\n",
      "22025 unique terms in vocabulary\n",
      "22155 unique terms in vocabulary\n",
      "44285 unique terms in vocabulary\n",
      "44419 unique terms in vocabulary\n",
      "23462 unique terms in vocabulary\n",
      "23592 unique terms in vocabulary\n",
      "41735 unique terms in vocabulary\n",
      "41869 unique terms in vocabulary\n",
      "22320 unique terms in vocabulary\n",
      "22450 unique terms in vocabulary\n",
      "48165 unique terms in vocabulary\n",
      "48299 unique terms in vocabulary\n",
      "23757 unique terms in vocabulary\n",
      "23887 unique terms in vocabulary\n",
      "28340 unique terms in vocabulary\n",
      "28629 unique terms in vocabulary\n",
      "14557 unique terms in vocabulary\n",
      "14702 unique terms in vocabulary\n",
      "34674 unique terms in vocabulary\n",
      "34963 unique terms in vocabulary\n",
      "15946 unique terms in vocabulary\n",
      "16091 unique terms in vocabulary\n",
      "32268 unique terms in vocabulary\n",
      "32557 unique terms in vocabulary\n",
      "14896 unique terms in vocabulary\n",
      "15041 unique terms in vocabulary\n",
      "38597 unique terms in vocabulary\n",
      "38886 unique terms in vocabulary\n",
      "16280 unique terms in vocabulary\n",
      "16425 unique terms in vocabulary\n",
      "23133 unique terms in vocabulary\n",
      "23282 unique terms in vocabulary\n",
      "14557 unique terms in vocabulary\n",
      "14702 unique terms in vocabulary\n",
      "29328 unique terms in vocabulary\n",
      "29477 unique terms in vocabulary\n",
      "15946 unique terms in vocabulary\n",
      "16091 unique terms in vocabulary\n",
      "27056 unique terms in vocabulary\n",
      "27205 unique terms in vocabulary\n",
      "14896 unique terms in vocabulary\n",
      "15041 unique terms in vocabulary\n",
      "33243 unique terms in vocabulary\n",
      "33392 unique terms in vocabulary\n",
      "16280 unique terms in vocabulary\n",
      "16425 unique terms in vocabulary\n",
      "49520 unique terms in vocabulary\n",
      "49775 unique terms in vocabulary\n",
      "25445 unique terms in vocabulary\n",
      "25573 unique terms in vocabulary\n",
      "56036 unique terms in vocabulary\n",
      "56291 unique terms in vocabulary\n",
      "26888 unique terms in vocabulary\n",
      "27016 unique terms in vocabulary\n",
      "53399 unique terms in vocabulary\n",
      "53654 unique terms in vocabulary\n",
      "25740 unique terms in vocabulary\n",
      "25868 unique terms in vocabulary\n",
      "59915 unique terms in vocabulary\n",
      "60170 unique terms in vocabulary\n",
      "27183 unique terms in vocabulary\n",
      "27311 unique terms in vocabulary\n",
      "43799 unique terms in vocabulary\n",
      "43932 unique terms in vocabulary\n",
      "25445 unique terms in vocabulary\n",
      "25573 unique terms in vocabulary\n",
      "50262 unique terms in vocabulary\n",
      "50395 unique terms in vocabulary\n",
      "26888 unique terms in vocabulary\n",
      "27016 unique terms in vocabulary\n",
      "47679 unique terms in vocabulary\n",
      "47812 unique terms in vocabulary\n",
      "25740 unique terms in vocabulary\n",
      "25868 unique terms in vocabulary\n",
      "54142 unique terms in vocabulary\n",
      "54275 unique terms in vocabulary\n",
      "27183 unique terms in vocabulary\n",
      "27311 unique terms in vocabulary\n",
      "34984 unique terms in vocabulary\n",
      "35273 unique terms in vocabulary\n",
      "18092 unique terms in vocabulary\n",
      "18237 unique terms in vocabulary\n",
      "41410 unique terms in vocabulary\n",
      "41699 unique terms in vocabulary\n",
      "19533 unique terms in vocabulary\n",
      "19678 unique terms in vocabulary\n",
      "38941 unique terms in vocabulary\n",
      "39230 unique terms in vocabulary\n",
      "18460 unique terms in vocabulary\n",
      "18605 unique terms in vocabulary\n",
      "45364 unique terms in vocabulary\n",
      "45653 unique terms in vocabulary\n",
      "19898 unique terms in vocabulary\n",
      "20043 unique terms in vocabulary\n",
      "29107 unique terms in vocabulary\n",
      "29256 unique terms in vocabulary\n",
      "18092 unique terms in vocabulary\n",
      "18237 unique terms in vocabulary\n",
      "35412 unique terms in vocabulary\n",
      "35561 unique terms in vocabulary\n",
      "19533 unique terms in vocabulary\n",
      "19678 unique terms in vocabulary\n",
      "33058 unique terms in vocabulary\n",
      "33207 unique terms in vocabulary\n",
      "18460 unique terms in vocabulary\n",
      "18605 unique terms in vocabulary\n",
      "39358 unique terms in vocabulary\n",
      "39507 unique terms in vocabulary\n",
      "19898 unique terms in vocabulary\n",
      "20043 unique terms in vocabulary\n",
      "21158 unique terms in vocabulary\n",
      "21287 unique terms in vocabulary\n",
      "26216 unique terms in vocabulary\n",
      "26345 unique terms in vocabulary\n",
      "24742 unique terms in vocabulary\n",
      "24871 unique terms in vocabulary\n",
      "29800 unique terms in vocabulary\n",
      "29929 unique terms in vocabulary\n",
      "21158 unique terms in vocabulary\n",
      "21287 unique terms in vocabulary\n",
      "26216 unique terms in vocabulary\n",
      "26345 unique terms in vocabulary\n",
      "24742 unique terms in vocabulary\n",
      "24871 unique terms in vocabulary\n",
      "29800 unique terms in vocabulary\n",
      "29929 unique terms in vocabulary\n",
      "13783 unique terms in vocabulary\n",
      "13927 unique terms in vocabulary\n",
      "18728 unique terms in vocabulary\n",
      "18872 unique terms in vocabulary\n",
      "17372 unique terms in vocabulary\n",
      "17516 unique terms in vocabulary\n",
      "22317 unique terms in vocabulary\n",
      "22461 unique terms in vocabulary\n",
      "13783 unique terms in vocabulary\n",
      "13927 unique terms in vocabulary\n",
      "18728 unique terms in vocabulary\n",
      "18872 unique terms in vocabulary\n",
      "17372 unique terms in vocabulary\n",
      "17516 unique terms in vocabulary\n",
      "22317 unique terms in vocabulary\n",
      "22461 unique terms in vocabulary\n",
      "24075 unique terms in vocabulary\n",
      "24202 unique terms in vocabulary\n",
      "29148 unique terms in vocabulary\n",
      "29275 unique terms in vocabulary\n",
      "27659 unique terms in vocabulary\n",
      "27786 unique terms in vocabulary\n",
      "32732 unique terms in vocabulary\n",
      "32859 unique terms in vocabulary\n",
      "24075 unique terms in vocabulary\n",
      "24202 unique terms in vocabulary\n",
      "29148 unique terms in vocabulary\n",
      "29275 unique terms in vocabulary\n",
      "27659 unique terms in vocabulary\n",
      "27786 unique terms in vocabulary\n",
      "32732 unique terms in vocabulary\n",
      "32859 unique terms in vocabulary\n",
      "16892 unique terms in vocabulary\n",
      "17036 unique terms in vocabulary\n",
      "21877 unique terms in vocabulary\n",
      "22021 unique terms in vocabulary\n",
      "20481 unique terms in vocabulary\n",
      "20625 unique terms in vocabulary\n",
      "25466 unique terms in vocabulary\n",
      "25610 unique terms in vocabulary\n",
      "16892 unique terms in vocabulary\n",
      "17036 unique terms in vocabulary\n",
      "21877 unique terms in vocabulary\n",
      "22021 unique terms in vocabulary\n",
      "20481 unique terms in vocabulary\n",
      "20625 unique terms in vocabulary\n",
      "25466 unique terms in vocabulary\n",
      "25610 unique terms in vocabulary\n"
     ]
    }
   ],
   "source": [
    "use_descr_opts = [True, False]\n",
    "lowercase_opts = [True, False]\n",
    "keep_punctuation_opts = [True, False]\n",
    "descr_prefix_opts = ['d=', '']\n",
    "url_opts = [True, False]\n",
    "mention_opts = [True, False]\n",
    "use_text_opts = [True, False]\n",
    "stop_words_opts = [True, False]\n",
    "\n",
    "argnames = ['use_descr', 'lower', 'punct', 'prefix', 'url', 'mention', 'use_text', 'collapse_stop_words']\n",
    "option_iter = product(use_descr_opts, lowercase_opts,keep_punctuation_opts,descr_prefix_opts, url_opts,\n",
    "                       mention_opts, use_text_opts,stop_words_opts)\n",
    "\n",
    "results = []\n",
    "for options in option_iter:\n",
    "    if options[0] or options[-2]:  # skip options that don't use descr or text.\n",
    "        #print '\\t'.join('%s=%s' % (name, opt) for name, opt in zip(argnames, options))\n",
    "        acc = run_all(tweets, *options)\n",
    "        results.append((options, acc))\n",
    "\n"
   ]
  },
  {
   "cell_type": "code",
   "execution_count": 56,
   "metadata": {
    "collapsed": false
   },
   "outputs": [],
   "source": [
    "# Write the results of all options to an output file\n",
    "\n",
    "f = open('results.txt','w')\n",
    "f.write(\"(use_descr,lower,punct,prefix,url,mention,use_text,collapse_stop_words)\")\n",
    "f.write(\"\\n\")\n",
    "for i in range(0,len(results)):\n",
    "    f.write(str(results[i]))\n",
    "    f.write(\"\\n\")"
   ]
  },
  {
   "cell_type": "code",
   "execution_count": 57,
   "metadata": {
    "collapsed": false
   },
   "outputs": [
    {
     "name": "stdout",
     "output_type": "stream",
     "text": [
      "best result:\n",
      "\tAccuracy=0.7181\n",
      "\tCombination=[('use_descr', True), ('lower', False), ('punct', False), ('prefix', 'd='), ('url', False), ('mention', True), ('use_text', False), ('collapse_stop_words', False)]\n"
     ]
    }
   ],
   "source": [
    "# What's the best possible combination?\n",
    "\n",
    "best_result = max(results, key=lambda x: x[1])\n",
    "print 'best result:\\n\\tAccuracy=%g\\n\\tCombination=%s' % (best_result[1],zip(argnames, best_result[0]))"
   ]
  },
  {
   "cell_type": "code",
   "execution_count": 11,
   "metadata": {
    "collapsed": false
   },
   "outputs": [
    {
     "name": "stdout",
     "output_type": "stream",
     "text": [
      "18605 unique terms in vocabulary\n",
      "0.6995\n",
      "[[676 365]\n",
      " [236 723]]\n",
      "0.715\n",
      "[[686 357]\n",
      " [213 744]]\n",
      "0.728\n",
      "[[669 364]\n",
      " [180 787]]\n",
      "0.7275\n",
      "[[672 359]\n",
      " [186 783]]\n",
      "0.7205\n",
      "[[683 351]\n",
      " [208 758]]\n"
     ]
    }
   ],
   "source": [
    "# What is the confusion matrix for our best combination ?\n",
    "\n",
    "def do_confusion_matrix(X, y, nfolds):\n",
    "    \"\"\" Compute Confusion Matrix.\"\"\"\n",
    "    cv = KFold(len(y), nfolds)\n",
    "    accuracies = []\n",
    "    for train_idx, test_idx in cv:\n",
    "        clf = LogisticRegression()\n",
    "        clf.fit(X[train_idx], y[train_idx])\n",
    "        predicted = clf.predict(X[test_idx])\n",
    "        acc = accuracy_score(y[test_idx], predicted)\n",
    "        print acc\n",
    "        cm = confusion_matrix(y[test_idx], predicted)\n",
    "        print cm\n",
    "        accuracies.append(acc)\n",
    "    avg = np.mean(accuracies)\n",
    "    return avg\n",
    "\n",
    "tokens_list = [sampleClass.tweet2tokens(t, use_descr=True, lowercase=False,keep_punctuation=False, descr_prefix='d=',\n",
    "                            collapse_urls=False, collapse_mentions=True, use_text=False,collapse_stop_words=False)\n",
    "                  for t in tweets]\n",
    "vocabulary = sampleClass.make_vocabulary(tokens_list)\n",
    "if len(vocabulary) > 0 :\n",
    "    X = sampleClass.make_feature_matrix(tokens_list, vocabulary,len(tweets))\n",
    "    acc = do_confusion_matrix(X, y, 5)"
   ]
  },
  {
   "cell_type": "code",
   "execution_count": 61,
   "metadata": {
    "collapsed": false
   },
   "outputs": [
    {
     "name": "stdout",
     "output_type": "stream",
     "text": [
      "use_descr 0.7181 0.6061\n",
      "lower 0.7151 0.7181\n",
      "punct 0.717 0.7181\n",
      "prefix 0.7181 0.7181\n",
      "url 0.7165 0.7181\n",
      "mention 0.7181 0.717\n",
      "use_text 0.717 0.7181\n",
      "collapse_stop_words 0.717 0.7181\n"
     ]
    }
   ],
   "source": [
    "# Which decisions had the biggest effect?\n",
    "# Find max score with option=True and with option=False\n",
    "\n",
    "def find_max(results, i, value):\n",
    "    return max(accuracy for options, accuracy in results if options[i] == value)\n",
    "\n",
    "best_scores = []\n",
    "for i, argname in enumerate(argnames):\n",
    "    values = [True, False] if argname != 'prefix' else ['d=', ''] # hack to deal with prefix option.\n",
    "    best_for_true = find_max(results, i, values[0])\n",
    "    best_for_false = find_max(results, i, values[1]) \n",
    "    print argname, best_for_true, best_for_false\n",
    "    best_scores.append((argname, best_for_true, best_for_false))"
   ]
  },
  {
   "cell_type": "code",
   "execution_count": 63,
   "metadata": {
    "collapsed": false
   },
   "outputs": [
    {
     "name": "stdout",
     "output_type": "stream",
     "text": [
      "[['use_descr' '0.7181' '0.6061']\n",
      " ['lower' '0.7151' '0.7181']\n",
      " ['url' '0.7165' '0.7181']\n",
      " ['punct' '0.717' '0.7181']\n",
      " ['mention' '0.7181' '0.717']\n",
      " ['use_text' '0.717' '0.7181']\n",
      " ['collapse_stop_words' '0.717' '0.7181']\n",
      " ['prefix' '0.7181' '0.7181']]\n"
     ]
    },
    {
     "data": {
      "image/png": "[encoded data removed]",
      "text/plain": [
       "<matplotlib.figure.Figure at 0x7f6488a12690>"
      ]
     },
     "metadata": {},
     "output_type": "display_data"
    }
   ],
   "source": [
    "# Plot results as stacked bar chart.\n",
    "import matplotlib.pyplot as plt\n",
    "\n",
    "srted = np.argsort([min(b[1], b[2]) for b in best_scores])\n",
    "best_scores = np.array(best_scores)[srted]\n",
    "print best_scores\n",
    "ind = np.arange(len(best_scores))\n",
    "width = 0.55       # the width of the bars: can also be len(x) sequence\n",
    "p1 = plt.bar(ind, [float(s[1]) for s in best_scores], width, color='r')\n",
    "p2 = plt.bar(ind, [float(s[2]) for s in best_scores], width, color='y')\n",
    "plt.ylabel('Accuracy')\n",
    "plt.title('Accuracy by Combination')\n",
    "plt.xticks(ind+width/2., np.array(argnames)[srted] )\n",
    "plt.ylim((.58, .74))\n",
    "plt.legend((p1[0], p2[0]), ('True', 'False'), loc='center left', bbox_to_anchor=(1, 0.5))\n",
    "\n",
    "plt.show()"
   ]
  }
 ],
 "metadata": {
  "kernelspec": {
   "display_name": "Python 2",
   "language": "python",
   "name": "python2"
  },
  "language_info": {
   "codemirror_mode": {
    "name": "ipython",
    "version": 2
   },
   "file_extension": ".py",
   "mimetype": "text/x-python",
   "name": "python",
   "nbconvert_exporter": "python",
   "pygments_lexer": "ipython2",
   "version": "2.7.6"
  }
 },
 "nbformat": 4,
 "nbformat_minor": 0
}
