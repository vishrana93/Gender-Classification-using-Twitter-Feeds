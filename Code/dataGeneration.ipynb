{
 "cells": [
  {
   "cell_type": "markdown",
   "metadata": {
    "collapsed": true
   },
   "source": [
    "#  CS 522 - Advanced Data Mining - Spring 2016 - Final Project\n",
    "\n",
    "#                Gender Classification using Twitter Feeds"
   ]
  },
  {
   "cell_type": "markdown",
   "metadata": {},
   "source": [
    "# Step - 1) Collect Surnames from U.S- Census List."
   ]
  },
  {
   "cell_type": "code",
   "execution_count": 57,
   "metadata": {
    "collapsed": false
   },
   "outputs": [],
   "source": [
    "# Import all packages\n",
    "\n",
    "import requests\n",
    "import ConfigParser\n",
    "from TwitterAPI import TwitterAPI\n",
    "import sys\n",
    "from collections import Counter\n",
    "import pickle"
   ]
  },
  {
   "cell_type": "code",
   "execution_count": 75,
   "metadata": {
    "collapsed": true
   },
   "outputs": [],
   "source": [
    "from sampleClass11 import sampleClass11"
   ]
  },
  {
   "cell_type": "code",
   "execution_count": 76,
   "metadata": {
    "collapsed": false
   },
   "outputs": [
    {
     "name": "stdout",
     "output_type": "stream",
     "text": [
      "\n"
     ]
    }
   ],
   "source": [
    "sampleClass = sampleClass11()"
   ]
  },
  {
   "cell_type": "code",
   "execution_count": null,
   "metadata": {
    "collapsed": false
   },
   "outputs": [],
   "source": [
    "\"\"\"\n",
    "def get_census_names():\n",
    "    males = requests.get('http://www2.census.gov/topics/genealogy/1990surnames/dist.male.first').text.split('\\n')\n",
    "    females = requests.get('http://www2.census.gov/topics/genealogy/1990surnames/dist.female.first').text.split('\\n')\n",
    "    males_pct = dict([(m.split()[0].lower(), float(m.split()[1])) for m in males if m])\n",
    "    females_pct = dict([(f.split()[0].lower(), float(f.split()[1])) for f in females if f])\n",
    "    male_names = set([m for m in males_pct if m not in females_pct or males_pct[m] > females_pct[m]])\n",
    "    female_names = set([f for f in females_pct if f not in males_pct or females_pct[f] > males_pct[f]]) \n",
    "    return male_names, female_names\n",
    "\"\"\""
   ]
  },
  {
   "cell_type": "code",
   "execution_count": 60,
   "metadata": {
    "collapsed": true
   },
   "outputs": [],
   "source": [
    "male_names, female_names = sampleClass.get_census_names()\n",
    "#male_names, female_names = get_census_names()"
   ]
  },
  {
   "cell_type": "code",
   "execution_count": 61,
   "metadata": {
    "collapsed": false
   },
   "outputs": [
    {
     "name": "stdout",
     "output_type": "stream",
     "text": [
      "Number of Male Names: 1146\n"
     ]
    }
   ],
   "source": [
    "print 'Number of Male Names:', len(male_names)"
   ]
  },
  {
   "cell_type": "code",
   "execution_count": 62,
   "metadata": {
    "collapsed": false
   },
   "outputs": [
    {
     "name": "stdout",
     "output_type": "stream",
     "text": [
      "Number of Female Names: 4014\n"
     ]
    }
   ],
   "source": [
    "print 'Number of Female Names:', len(female_names)"
   ]
  },
  {
   "cell_type": "code",
   "execution_count": 63,
   "metadata": {
    "collapsed": false
   },
   "outputs": [
    {
     "name": "stdout",
     "output_type": "stream",
     "text": [
      "male name sample: [u'trenton', u'darrin', u'emile', u'jason', u'ron']\n"
     ]
    }
   ],
   "source": [
    "print 'male name sample:', list(male_names)[:5]"
   ]
  },
  {
   "cell_type": "code",
   "execution_count": 64,
   "metadata": {
    "collapsed": false
   },
   "outputs": [
    {
     "name": "stdout",
     "output_type": "stream",
     "text": [
      "female name sample: [u'fawn', u'kymberly', u'augustina', u'evalyn', u'chieko']\n"
     ]
    }
   ],
   "source": [
    "print 'female name sample:', list(female_names)[:5]"
   ]
  },
  {
   "cell_type": "markdown",
   "metadata": {},
   "source": [
    "# Conclusion\n",
    "In 1990 collection of surnames from U.S Census List, there are 1146 Male names and 4014 Female Names."
   ]
  },
  {
   "cell_type": "markdown",
   "metadata": {},
   "source": [
    "# Step 2 : Sample twitter feeds with names matching census names"
   ]
  },
  {
   "cell_type": "code",
   "execution_count": 65,
   "metadata": {
    "collapsed": false,
    "scrolled": true
   },
   "outputs": [],
   "source": [
    "# Load the Consumer and Access Token Key and Value from twitter.cfg file\n",
    "\n",
    "def get_twitter(config_file):\n",
    "    config = ConfigParser.ConfigParser()\n",
    "    config.read(config_file)\n",
    "    twitter = TwitterAPI(\n",
    "                   config.get('twitter', 'consumer_key'),\n",
    "                   config.get('twitter', 'consumer_secret'),\n",
    "                   config.get('twitter', 'access_token'),\n",
    "                   config.get('twitter', 'access_token_secret'))\n",
    "    return twitter\n",
    "\n",
    "twitter = get_twitter('twitter.cfg')\n"
   ]
  },
  {
   "cell_type": "code",
   "execution_count": 66,
   "metadata": {
    "collapsed": true
   },
   "outputs": [],
   "source": [
    "def get_first_name(tweet):\n",
    "    if 'user' in tweet and 'name' in tweet['user']:\n",
    "        parts = tweet['user']['name'].split()\n",
    "        if len(parts) > 0:\n",
    "            return parts[0].lower()"
   ]
  },
  {
   "cell_type": "code",
   "execution_count": 10,
   "metadata": {
    "collapsed": false
   },
   "outputs": [
    {
     "name": "stdout",
     "output_type": "stream",
     "text": [
      "found 1000 tweets\n",
      "found 2000 tweets\n",
      "found 3000 tweets\n",
      "found 4000 tweets\n",
      "found 5000 tweets\n",
      "found 6000 tweets\n",
      "found 7000 tweets\n",
      "found 8000 tweets\n",
      "found 9000 tweets\n",
      "found 10000 tweets\n"
     ]
    }
   ],
   "source": [
    "def sample_tweets(twitter, limit, male_names, female_names):\n",
    "    tweets = []\n",
    "    while True:\n",
    "        try:\n",
    "            # Restrict to U.S.\n",
    "            for response in twitter.request('statuses/filter',{'locations':'-124.637,24.548,-66.993,48.9974'}):\n",
    "                if 'user' in response:\n",
    "                    name = get_first_name(response)\n",
    "                    if name in male_names or name in female_names:\n",
    "                        tweets.append(response)\n",
    "                        if len(tweets) % 1000 == 0:\n",
    "                            print 'found %d tweets' % len(tweets)\n",
    "                        if len(tweets) >= limit:\n",
    "                            return tweets\n",
    "        except:\n",
    "            print \"Unexpected error:\", sys.exc_info()[0]\n",
    "    return tweets\n",
    "        \n",
    "tweets = sample_tweets(twitter, 10000, male_names, female_names)"
   ]
  },
  {
   "cell_type": "code",
   "execution_count": 11,
   "metadata": {
    "collapsed": false
   },
   "outputs": [
    {
     "name": "stdout",
     "output_type": "stream",
     "text": [
      "found 100 tweets\n",
      "found 200 tweets\n"
     ]
    }
   ],
   "source": [
    "def junk_tweets(twitter, limit, male_names, female_names):\n",
    "    junk_tweets = []\n",
    "    while True:\n",
    "        try:\n",
    "            # Restrict to U.S.\n",
    "            for response in twitter.request('statuses/filter',{'locations':'-124.637,24.548,-66.993,48.9974'}):\n",
    "                if 'user' in response:\n",
    "                    name = get_first_name(response)\n",
    "                    if name not in male_names and name not in female_names:\n",
    "                        junk_tweets.append(response)\n",
    "                        if len(junk_tweets) % 100 == 0:\n",
    "                            print 'found %d tweets' % len(junk_tweets)\n",
    "                        if len(junk_tweets) >= limit:\n",
    "                            return junk_tweets\n",
    "        except:\n",
    "            print \"Unexpected error:\", sys.exc_info()[0]\n",
    "    return junk_tweets\n",
    "        \n",
    "junk_tweets = junk_tweets(twitter, 200, male_names, female_names)"
   ]
  },
  {
   "cell_type": "code",
   "execution_count": 67,
   "metadata": {
    "collapsed": false
   },
   "outputs": [
    {
     "name": "stdout",
     "output_type": "stream",
     "text": [
      "Number of tweets of users in census list: 10000\n"
     ]
    }
   ],
   "source": [
    "print 'Number of tweets of users in census list:',len(tweets)"
   ]
  },
  {
   "cell_type": "code",
   "execution_count": 68,
   "metadata": {
    "collapsed": false
   },
   "outputs": [
    {
     "name": "stdout",
     "output_type": "stream",
     "text": [
      "Number of junk tweets of users not in census list: 200\n"
     ]
    }
   ],
   "source": [
    "print 'Number of junk tweets of users not in census list:',len(junk_tweets)"
   ]
  },
  {
   "cell_type": "code",
   "execution_count": 69,
   "metadata": {
    "collapsed": false,
    "scrolled": true
   },
   "outputs": [
    {
     "name": "stdout",
     "output_type": "stream",
     "text": [
      "Top 10 Most Common Names are: \n",
      "[(u'john', 112), (u'david', 111), (u'michael', 110), (u'chris', 108), (u'ryan', 71), (u'mike', 68), (u'alex', 66), (u'matt', 65), (u'emily', 64), (u'taylor', 62)]\n"
     ]
    }
   ],
   "source": [
    "print 'Top 10 Most Common Names are: \\n', Counter(get_first_name(t) for t in tweets).most_common(10)"
   ]
  },
  {
   "cell_type": "code",
   "execution_count": 70,
   "metadata": {
    "collapsed": false
   },
   "outputs": [
    {
     "name": "stdout",
     "output_type": "stream",
     "text": [
      "Top 10 Most Common Junk Names are: \n",
      "[(u'tmj-azs', 3), (u'the', 3), (u'coach', 2), (u'jp', 2), (u'.', 2), (u'mr.', 2), (u'gabriela\\u2665\\u2665.', 2), (u'boojeegal\\u2728', 1), (u'\\uff54\\uff52\\uff55\\uff45\\uff4c\\uff49\\uff46\\uff45', 1), (u'mookie', 1)]\n"
     ]
    }
   ],
   "source": [
    "print 'Top 10 Most Common Junk Names are: \\n', Counter(get_first_name(t) for t in junk_tweets).most_common(10)"
   ]
  },
  {
   "cell_type": "code",
   "execution_count": 71,
   "metadata": {
    "collapsed": true
   },
   "outputs": [],
   "source": [
    "# Save the normal tweets.\n",
    "pickle.dump(tweets, open('tweets.pkl', 'wb'))"
   ]
  },
  {
   "cell_type": "code",
   "execution_count": 72,
   "metadata": {
    "collapsed": true
   },
   "outputs": [],
   "source": [
    "# Save the junk tweets.\n",
    "pickle.dump(junk_tweets, open('junk_tweets.pkl', 'wb'))"
   ]
  }
 ],
 "metadata": {
  "kernelspec": {
   "display_name": "Python 2",
   "language": "python",
   "name": "python2"
  },
  "language_info": {
   "codemirror_mode": {
    "name": "ipython",
    "version": 2
   },
   "file_extension": ".py",
   "mimetype": "text/x-python",
   "name": "python",
   "nbconvert_exporter": "python",
   "pygments_lexer": "ipython2",
   "version": "2.7.6"
  }
 },
 "nbformat": 4,
 "nbformat_minor": 0
}
